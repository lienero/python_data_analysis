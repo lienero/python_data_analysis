{
 "cells": [
  {
   "cell_type": "code",
   "execution_count": 1,
   "metadata": {},
   "outputs": [],
   "source": [
    "import tweepy"
   ]
  },
  {
   "cell_type": "code",
   "execution_count": 2,
   "metadata": {},
   "outputs": [],
   "source": [
    "# 발급 완료된 API_KEY를 입력합니다.\n",
    "CONSUMER_KEY = \"PPWQGTKtypktBZGi28w9kXBlT\"\n",
    "CONSUMER_SECRET = \"ooE3ODXs1TjwyOCFnz6ZmaNOF6kKLpOatPdM4CAfSl4utKUasP\"\n",
    "ACCESS_TOKEN_KEY = \"1337193557635944449-zO8IXaEsLOWbF93bE8ia5fMgLsJQ9m\"\n",
    "ACCESS_TOKEN_SECRET = \"cvl1XInqSla8zqekLFaxNPuiwOVBx7IDQAxVMd1h9D91r\"\n",
    "\n",
    "# 개인정보 인증을 요청하는 Handler 입니다.\n",
    "auth = tweepy.OAuthHandler(CONSUMER_KEY, CONSUMER_SECRET)\n",
    "\n",
    "# 인증 요청을 수행합니다.\n",
    "auth.set_access_token(ACCESS_TOKEN_KEY, ACCESS_TOKEN_SECRET)\n",
    "\n",
    "# twitter API를 사용하기 위한 준비입니다.\n",
    "api = tweepy.API(auth)"
   ]
  },
  {
   "cell_type": "code",
   "execution_count": 3,
   "metadata": {},
   "outputs": [
    {
     "name": "stdout",
     "output_type": "stream",
     "text": [
      "[]\n",
      "[{'text': '손흥민', 'indices': [70, 74]}, {'text': '토트넘', 'indices': [75, 79]}, {'text': '유로파', 'indices': [80, 84]}, {'text': '해외반응', 'indices': [85, 90]}, {'text': 'sonheungmin', 'indices': [91, 103]}, {'text': 'sonny', 'indices': [104, 110]}, {'text': 'tottenham', 'indices': [111, 121]}]\n",
      "토트넘 조1위로 유로파리그 32강 진출! 손흥민은 교체출전(+ 해외 팬 반응)\n",
      "\n",
      "https://t.co/hPHncs5VE6\n",
      "\n",
      "#손흥민 #토트넘 #유로파 #해외반응 #sonheungmin #sonny #tottenham\n",
      "[{'screen_name': 'doublejay_0214', 'name': '제이에스', 'id': 1250672405632057346, 'id_str': '1250672405632057346', 'indices': [3, 18]}]\n",
      "[{'text': '손흥민', 'indices': [20, 24]}, {'text': '손흥민스티커', 'indices': [25, 32]}, {'text': '손흥민굿즈', 'indices': [33, 39]}, {'text': '토트넘', 'indices': [40, 44]}, {'text': '손흥민네임스티커', 'indices': [45, 54]}, {'text': '손흥민넴스', 'indices': [55, 61]}, {'text': '국가대표', 'indices': [62, 67]}, {'text': '이승우', 'indices': [68, 72]}, {'text': '이승우굿즈', 'indices': [73, 79]}, {'text': '김민재', 'indices': [80, 84]}, {'text': '김민재굿즈', 'indices': [85, 91]}, {'text': '축구', 'indices': [92, 95]}, {'text': '축구굿즈', 'indices': [96, 101]}, {'text': '국대굿즈', 'indices': [102, 107]}, {'text': '김정민', 'indices': [108, 112]}, {'text': '황희찬', 'indices': [113, 117]}]\n",
      "RT @doublejay_0214: #손흥민 #손흥민스티커 #손흥민굿즈 #토트넘 #손흥민네임스티커 #손흥민넴스 #국가대표 #이승우 #이승우굿즈 #김민재 #김민재굿즈 #축구 #축구굿즈 #국대굿즈 #김정민 #황희찬 \n",
      "\n",
      "배송전후 확실하게 챙겨드림 / 교환…\n",
      "[]\n",
      "[{'text': '청출어람', 'indices': [67, 72]}, {'text': '손흥민', 'indices': [73, 77]}]\n",
      "손웅정 옹을\n",
      "2022 카타르 월드컵ㆍ2023 예카테린부르크 유니버시아드ㆍ2024 파리 올림픽 대표팀 코치로 모십시다!\n",
      "\n",
      "#청출어람 #손흥민\n",
      "\n",
      "https://t.co/az3uEHSEvX\n",
      "[{'screen_name': 'sonnyy07', 'name': '갸악', 'id': 1512500641, 'id_str': '1512500641', 'indices': [3, 12]}]\n",
      "[]\n",
      "RT @sonnyy07: 손흥민 골~~ https://t.co/vorGCcuMMc\n",
      "[{'screen_name': 'sonny_record', 'name': '쏘니컷기록', 'id': 2177893836, 'id_str': '2177893836', 'indices': [3, 16]}]\n",
      "[{'text': 'UEL', 'indices': [25, 29]}, {'text': 'TOTANT', 'indices': [30, 37]}, {'text': 'GroupJ', 'indices': [38, 45]}, {'text': '손흥민', 'indices': [46, 50]}]\n",
      "RT @sonny_record: 201210 #UEL #TOTANT #GroupJ #손흥민\n",
      "vs Royal Antwerp\n",
      "&gt;&gt;오늘의 경기 기록 타래&lt;&lt; https://t.co/CWkyXMU96d\n",
      "[{'screen_name': 'YouTube', 'name': 'YouTube', 'id': 10228272, 'id_str': '10228272', 'indices': [102, 110]}]\n",
      "[]\n",
      "무리뉴, 토트넘 앤트워프 경기전 '손흥민과 케인은 팀을 위해 뛰는 짐승들!' + 호이비에르, 오리에 결장 [인터뷰번역/해외반응/E... https://t.co/3bNCkhEFV9 - @YouTube\n",
      "[{'screen_name': 'sonnyy07', 'name': '갸악', 'id': 1512500641, 'id_str': '1512500641', 'indices': [3, 12]}]\n",
      "[]\n",
      "RT @sonnyy07: 손흥민 골~~ https://t.co/vorGCcuMMc\n",
      "[]\n",
      "[]\n",
      "=   -   =자고깨서 토트넘경기관련한거 내용보고있는데....앤트워프 진짜 개매너오브 쌉개매너였나보네... \n",
      "손흥민대놓고견제하는수준을넘어서 그냥 더티플레이에 손흥민 발목괜찮냐는 말들이엄청많은데...;;\n",
      "[{'screen_name': 'sonny_record', 'name': '쏘니컷기록', 'id': 2177893836, 'id_str': '2177893836', 'indices': [3, 16]}]\n",
      "[{'text': 'UEL', 'indices': [25, 29]}, {'text': 'TOTANT', 'indices': [30, 37]}, {'text': 'GroupJ', 'indices': [38, 45]}, {'text': '손흥민', 'indices': [46, 50]}]\n",
      "RT @sonny_record: 201210 #UEL #TOTANT #GroupJ #손흥민\n",
      "vs Royal Antwerp\n",
      "&gt;&gt;오늘의 경기 기록 타래&lt;&lt; https://t.co/CWkyXMU96d\n",
      "[{'screen_name': 'hmson7_fcthai', 'name': '🇰🇷🇹🇭Sonheungmin FCThai🐇🐓', 'id': 2436642744, 'id_str': '2436642744', 'indices': [3, 17]}]\n",
      "[{'text': 'HMFCT07', 'indices': [73, 81]}, {'text': 'HMSJ07', 'indices': [82, 89]}, {'text': 'Sonny', 'indices': [90, 96]}, {'text': 'COYS', 'indices': [97, 102]}, {'text': 'THFC', 'indices': [103, 108]}, {'text': 'SON7', 'indices': [109, 114]}, {'text': 'loveSS', 'indices': [115, 122]}, {'text': 'sonheungminFCThai', 'indices': [123, 141]}]\n",
      "RT @hmson7_fcthai: Son &amp;​ Joe at Tottenham Hotspur Stadium 😊😊😊\n",
      ".\n",
      ".\n",
      ".\n",
      "#HMFCT07​#HMSJ07​#Sonny​#COYS​#THFC​#SON7​#loveSS​#sonheungminFCThai​#…\n",
      "[{'screen_name': 'sonny_record', 'name': '쏘니컷기록', 'id': 2177893836, 'id_str': '2177893836', 'indices': [3, 16]}]\n",
      "[{'text': 'UEL', 'indices': [25, 29]}, {'text': 'TOTANT', 'indices': [30, 37]}, {'text': 'GroupJ', 'indices': [38, 45]}, {'text': '손흥민', 'indices': [46, 50]}]\n",
      "RT @sonny_record: 201210 #UEL #TOTANT #GroupJ #손흥민\n",
      "vs Royal Antwerp\n",
      "&gt;&gt;오늘의 경기 기록 타래&lt;&lt; https://t.co/CWkyXMU96d\n",
      "[{'screen_name': 'YouTube', 'name': 'YouTube', 'id': 10228272, 'id_str': '10228272', 'indices': [91, 99]}]\n",
      "[]\n",
      "토트넘 앤트워프 2:0승리.. 손흥민, 케인, 은돔벨레 후반 투입..[해외팬/댓글반응/Eng Sub/Kor Sub] https://t.co/oJROsoncfX - @YouTube\n",
      "[{'screen_name': 'YouTube', 'name': 'YouTube', 'id': 10228272, 'id_str': '10228272', 'indices': [96, 104]}]\n",
      "[]\n",
      "토트넘 무리뉴 앤트워프 전 경기 후 인터뷰, '손흥민 왜 투입시켰냐고?\"' [인터뷰/해외반응/Eng Sub/ Kor Sub] https://t.co/4aso3m7SO7 - @YouTube\n",
      "[{'screen_name': 'sonny_record', 'name': '쏘니컷기록', 'id': 2177893836, 'id_str': '2177893836', 'indices': [3, 16]}]\n",
      "[{'text': 'UEL', 'indices': [25, 29]}, {'text': 'TOTANT', 'indices': [30, 37]}, {'text': 'GroupJ', 'indices': [38, 45]}, {'text': '손흥민', 'indices': [46, 50]}]\n",
      "RT @sonny_record: 201210 #UEL #TOTANT #GroupJ #손흥민\n",
      "vs Royal Antwerp\n",
      "&gt;&gt;오늘의 경기 기록 타래&lt;&lt; https://t.co/CWkyXMU96d\n",
      "[{'screen_name': 'sonny_record', 'name': '쏘니컷기록', 'id': 2177893836, 'id_str': '2177893836', 'indices': [3, 16]}]\n",
      "[{'text': 'UEL', 'indices': [25, 29]}, {'text': 'TOTANT', 'indices': [30, 37]}, {'text': 'GroupJ', 'indices': [38, 45]}, {'text': '손흥민', 'indices': [46, 50]}]\n",
      "RT @sonny_record: 201210 #UEL #TOTANT #GroupJ #손흥민\n",
      "vs Royal Antwerp\n",
      "&gt;&gt;오늘의 경기 기록 타래&lt;&lt; https://t.co/CWkyXMU96d\n"
     ]
    }
   ],
   "source": [
    "# twitter API를 사용하여 '손흥민'이 포함된 트윗들을 크롤링한 뒤, entities에서 'user_mention', 'hashtags'를 추출합니다.\n",
    "keyword = \"손흥민\"\n",
    "tweets = api.search(keyword)\n",
    "for tweet in tweets:\n",
    "    print(tweet.entities['user_mentions'])\n",
    "    print(tweet.entities['hashtags'])\n",
    "    print(tweet.text)"
   ]
  },
  {
   "cell_type": "code",
   "execution_count": null,
   "metadata": {},
   "outputs": [],
   "source": []
  }
 ],
 "metadata": {
  "kernelspec": {
   "display_name": "Python 3",
   "language": "python",
   "name": "python3"
  },
  "language_info": {
   "codemirror_mode": {
    "name": "ipython",
    "version": 3
   },
   "file_extension": ".py",
   "mimetype": "text/x-python",
   "name": "python",
   "nbconvert_exporter": "python",
   "pygments_lexer": "ipython3",
   "version": "3.8.5"
  }
 },
 "nbformat": 4,
 "nbformat_minor": 4
}
