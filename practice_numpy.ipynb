{
 "cells": [
  {
   "cell_type": "code",
   "execution_count": 1,
   "metadata": {},
   "outputs": [],
   "source": [
    "import numpy as np"
   ]
  },
  {
   "cell_type": "code",
   "execution_count": 2,
   "metadata": {},
   "outputs": [
    {
     "data": {
      "text/plain": [
       "array([[ 0,  1,  2,  3,  4],\n",
       "       [ 5,  6,  7,  8,  9],\n",
       "       [10, 11, 12, 13, 14]])"
      ]
     },
     "execution_count": 2,
     "metadata": {},
     "output_type": "execute_result"
    }
   ],
   "source": [
    "# 0부터 14까지 15개의 숫자를 (3,5) == [3][5] 차원으로 생성한다.\n",
    "arr1 = np.arange(15).reshape(3, 5)\n",
    "arr1"
   ]
  },
  {
   "cell_type": "code",
   "execution_count": 3,
   "metadata": {},
   "outputs": [
    {
     "data": {
      "text/plain": [
       "(3, 5)"
      ]
     },
     "execution_count": 3,
     "metadata": {},
     "output_type": "execute_result"
    }
   ],
   "source": [
    "# 데이터 차원의 확인\n",
    "arr1.shape"
   ]
  },
  {
   "cell_type": "code",
   "execution_count": 4,
   "metadata": {},
   "outputs": [
    {
     "data": {
      "text/plain": [
       "dtype('int32')"
      ]
     },
     "execution_count": 4,
     "metadata": {},
     "output_type": "execute_result"
    }
   ],
   "source": [
    "# 변수 타입의 확인\n",
    "arr1.dtype"
   ]
  },
  {
   "cell_type": "code",
   "execution_count": 5,
   "metadata": {},
   "outputs": [
    {
     "data": {
      "text/plain": [
       "array([[0., 0., 0., 0.],\n",
       "       [0., 0., 0., 0.],\n",
       "       [0., 0., 0., 0.]])"
      ]
     },
     "execution_count": 5,
     "metadata": {},
     "output_type": "execute_result"
    }
   ],
   "source": [
    "# zeros() 함수는 0으로 채워진 넘파이 배열을 생성하는 함수입니다. 1을 채워주는 역할을 하는 함수는 ones() 입니다.\n",
    "arr3 = np.zeros((3,4))\n",
    "arr3"
   ]
  },
  {
   "cell_type": "code",
   "execution_count": 8,
   "metadata": {},
   "outputs": [
    {
     "name": "stdout",
     "output_type": "stream",
     "text": [
      "arr4 + arr5 = \n",
      "[[ 8. 10. 12.]\n",
      " [14. 16. 18.]] \n",
      "\n",
      "arr4 - arr5 = \n",
      "[[-6. -6. -6.]\n",
      " [-6. -6. -6.]] \n",
      "\n",
      "arr4 * arr5 = \n",
      "[[ 7. 16. 27.]\n",
      " [40. 55. 72.]] \n",
      "\n",
      "arr4 / arr5 = \n",
      "[[0.14285714 0.25       0.33333333]\n",
      " [0.4        0.45454545 0.5       ]] \n",
      "\n"
     ]
    }
   ],
   "source": [
    "arr4 = np.array([\n",
    "    [1,2,3],\n",
    "    [4,5,6]\n",
    "], dtype = np.float64)\n",
    "\n",
    "arr5 = np.array([\n",
    "    [7,8,9],\n",
    "    [10,11,12]\n",
    "], dtype = np.float64)\n",
    "\n",
    "# 사칙연산을 출력합니다.\n",
    "print(\"arr4 + arr5 = \")\n",
    "print(arr4 + arr5, \"\\n\")\n",
    "print(\"arr4 - arr5 = \")\n",
    "print(arr4 - arr5, \"\\n\")\n",
    "print(\"arr4 * arr5 = \")\n",
    "print(arr4 * arr5, \"\\n\")\n",
    "print(\"arr4 / arr5 = \")\n",
    "print(arr4 / arr5, \"\\n\")"
   ]
  },
  {
   "cell_type": "code",
   "execution_count": null,
   "metadata": {},
   "outputs": [],
   "source": []
  }
 ],
 "metadata": {
  "kernelspec": {
   "display_name": "Python 3",
   "language": "python",
   "name": "python3"
  },
  "language_info": {
   "codemirror_mode": {
    "name": "ipython",
    "version": 3
   },
   "file_extension": ".py",
   "mimetype": "text/x-python",
   "name": "python",
   "nbconvert_exporter": "python",
   "pygments_lexer": "ipython3",
   "version": "3.8.5"
  }
 },
 "nbformat": 4,
 "nbformat_minor": 4
}
