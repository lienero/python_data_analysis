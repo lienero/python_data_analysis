{
 "cells": [
  {
   "cell_type": "code",
   "execution_count": 40,
   "metadata": {},
   "outputs": [],
   "source": [
    "# -*- coding: utf-8 -*-\n",
    "\n",
    "%matplotlib inline\n",
    "\n",
    "import pandas as pd\n",
    "import numpy as np\n",
    "import matplotlib.pyplot as plt\n",
    "import seaborn as sns\n",
    "\n",
    "import warnings\n",
    "warnings.filterwarnings(\"ignore\")"
   ]
  },
  {
   "cell_type": "code",
   "execution_count": 41,
   "metadata": {},
   "outputs": [
    {
     "name": "stdout",
     "output_type": "stream",
     "text": [
      "<class 'pandas.core.frame.DataFrame'>\n",
      "RangeIndex: 4951 entries, 0 to 4950\n",
      "Data columns (total 7 columns):\n",
      " #   Column         Non-Null Count  Dtype  \n",
      "---  ------         --------------  -----  \n",
      " 0   create_date    4951 non-null   object \n",
      " 1   price          4951 non-null   float64\n",
      " 2   text           4951 non-null   object \n",
      " 3   phone_model    4951 non-null   object \n",
      " 4   factory_price  4951 non-null   int64  \n",
      " 5   maker          4951 non-null   object \n",
      " 6   price_index    4951 non-null   float64\n",
      "dtypes: float64(2), int64(1), object(4)\n",
      "memory usage: 270.9+ KB\n",
      "None\n"
     ]
    },
    {
     "data": {
      "text/html": [
       "<div>\n",
       "<style scoped>\n",
       "    .dataframe tbody tr th:only-of-type {\n",
       "        vertical-align: middle;\n",
       "    }\n",
       "\n",
       "    .dataframe tbody tr th {\n",
       "        vertical-align: top;\n",
       "    }\n",
       "\n",
       "    .dataframe thead th {\n",
       "        text-align: right;\n",
       "    }\n",
       "</style>\n",
       "<table border=\"1\" class=\"dataframe\">\n",
       "  <thead>\n",
       "    <tr style=\"text-align: right;\">\n",
       "      <th></th>\n",
       "      <th>create_date</th>\n",
       "      <th>price</th>\n",
       "      <th>text</th>\n",
       "      <th>phone_model</th>\n",
       "      <th>factory_price</th>\n",
       "      <th>maker</th>\n",
       "      <th>price_index</th>\n",
       "    </tr>\n",
       "  </thead>\n",
       "  <tbody>\n",
       "    <tr>\n",
       "      <th>0</th>\n",
       "      <td>2017-03-19  4 35 00 PM</td>\n",
       "      <td>550000.0</td>\n",
       "      <td>아이폰6플러스 블랙+애플라이트 64기가 팝니다  아이폰6플러스 블랙+애플라이트 64...</td>\n",
       "      <td>iphone 6 64gb</td>\n",
       "      <td>924000</td>\n",
       "      <td>apple</td>\n",
       "      <td>95.96</td>\n",
       "    </tr>\n",
       "    <tr>\n",
       "      <th>1</th>\n",
       "      <td>2016-10-26  12 08 00 PM</td>\n",
       "      <td>380000.0</td>\n",
       "      <td>갤럭시s6엣지 32기가 팝니다 직거래  갤럭시s6엣지 32기가 품명 갤럭시s6엣지제...</td>\n",
       "      <td>galaxy s6 edge 32gb</td>\n",
       "      <td>979000</td>\n",
       "      <td>samsung</td>\n",
       "      <td>103.05</td>\n",
       "    </tr>\n",
       "    <tr>\n",
       "      <th>2</th>\n",
       "      <td>2016-10-25  12 52 00 PM</td>\n",
       "      <td>300000.0</td>\n",
       "      <td>갤럭시s6 풀박스로 팝니다~~~ 새상품급  실기스조차 없어요  직접거래 구매한지 1...</td>\n",
       "      <td>galaxy s6 32gb</td>\n",
       "      <td>854000</td>\n",
       "      <td>samsung</td>\n",
       "      <td>103.05</td>\n",
       "    </tr>\n",
       "    <tr>\n",
       "      <th>3</th>\n",
       "      <td>2017-03-23  11 14 00 PM</td>\n",
       "      <td>290000.0</td>\n",
       "      <td>sk  g5 티탄 폰 단품판매합니다  직접거래 sk g5 티탄 폰 단품판매합니다 올...</td>\n",
       "      <td>lg g5 32gb</td>\n",
       "      <td>836000</td>\n",
       "      <td>lg</td>\n",
       "      <td>95.96</td>\n",
       "    </tr>\n",
       "    <tr>\n",
       "      <th>4</th>\n",
       "      <td>2016-04-11  7 35 00 PM</td>\n",
       "      <td>280000.0</td>\n",
       "      <td>sony 엑스페리아 c5 ultra e5506 16gb  미사용 새제품 팝니다 1...</td>\n",
       "      <td>lg u 32gb</td>\n",
       "      <td>396000</td>\n",
       "      <td>lg</td>\n",
       "      <td>102.59</td>\n",
       "    </tr>\n",
       "  </tbody>\n",
       "</table>\n",
       "</div>"
      ],
      "text/plain": [
       "               create_date     price  \\\n",
       "0   2017-03-19  4 35 00 PM  550000.0   \n",
       "1  2016-10-26  12 08 00 PM  380000.0   \n",
       "2  2016-10-25  12 52 00 PM  300000.0   \n",
       "3  2017-03-23  11 14 00 PM  290000.0   \n",
       "4   2016-04-11  7 35 00 PM  280000.0   \n",
       "\n",
       "                                                text          phone_model  \\\n",
       "0  아이폰6플러스 블랙+애플라이트 64기가 팝니다  아이폰6플러스 블랙+애플라이트 64...        iphone 6 64gb   \n",
       "1  갤럭시s6엣지 32기가 팝니다 직거래  갤럭시s6엣지 32기가 품명 갤럭시s6엣지제...  galaxy s6 edge 32gb   \n",
       "2  갤럭시s6 풀박스로 팝니다~~~ 새상품급  실기스조차 없어요  직접거래 구매한지 1...       galaxy s6 32gb   \n",
       "3  sk  g5 티탄 폰 단품판매합니다  직접거래 sk g5 티탄 폰 단품판매합니다 올...           lg g5 32gb   \n",
       "4   sony 엑스페리아 c5 ultra e5506 16gb  미사용 새제품 팝니다 1...            lg u 32gb   \n",
       "\n",
       "   factory_price    maker  price_index  \n",
       "0         924000    apple        95.96  \n",
       "1         979000  samsung       103.05  \n",
       "2         854000  samsung       103.05  \n",
       "3         836000       lg        95.96  \n",
       "4         396000       lg       102.59  "
      ]
     },
     "execution_count": 41,
     "metadata": {},
     "output_type": "execute_result"
    }
   ],
   "source": [
    "df = pd.read_csv(\"../data/used_mobile_phone.csv\")\n",
    "print(df.info())\n",
    "df.head()"
   ]
  },
  {
   "cell_type": "code",
   "execution_count": 42,
   "metadata": {},
   "outputs": [
    {
     "data": {
      "text/plain": [
       "2016-10    2956\n",
       "2017-03    1311\n",
       "2016-08     107\n",
       "2016-09     105\n",
       "2016-04     102\n",
       "2016-05      89\n",
       "2016-06      76\n",
       "2016-07      74\n",
       "2016-03      70\n",
       "2016-02      61\n",
       "Name: month, dtype: int64"
      ]
     },
     "execution_count": 42,
     "metadata": {},
     "output_type": "execute_result"
    }
   ],
   "source": [
    "# create_date로부터 '월'을 의미하는 month 정보를 피처로 추출합니다.\n",
    "df['month'] = df['create_date'].apply(lambda x: x[:7])\n",
    "\n",
    "# 월별 거래 횟수를 계산하여 출력합니다.\n",
    "df['month'].value_counts()"
   ]
  },
  {
   "cell_type": "code",
   "execution_count": 43,
   "metadata": {},
   "outputs": [
    {
     "data": {
      "image/png": "[encoded data removed]",
      "text/plain": [
       "<Figure size 432x288 with 1 Axes>"
      ]
     },
     "metadata": {
      "needs_background": "light"
     },
     "output_type": "display_data"
    }
   ],
   "source": [
    "# 일별 거래 횟수를 계산하여 그래프로 출력합니다.\n",
    "# to_datetime() : 문자를 날짜형식(timestamp)으로 변환\n",
    "df_day = pd.to_datetime(df['create_date'].apply(lambda x: x[:10])).value_counts()\n",
    "df_day.plot()\n",
    "plt.show()"
   ]
  },
  {
   "cell_type": "code",
   "execution_count": 44,
   "metadata": {},
   "outputs": [
    {
     "data": {
      "text/plain": [
       "<AxesSubplot:>"
      ]
     },
     "execution_count": 44,
     "metadata": {},
     "output_type": "execute_result"
    },
    {
     "data": {
      "image/png": "[encoded data removed]",
      "text/plain": [
       "<Figure size 432x288 with 1 Axes>"
      ]
     },
     "metadata": {
      "needs_background": "light"
     },
     "output_type": "display_data"
    }
   ],
   "source": [
    "# 가격의 분포를 그래프로 탐색합니다.\n",
    "df['price'].hist(bins=\"auto\")"
   ]
  },
  {
   "cell_type": "code",
   "execution_count": 45,
   "metadata": {},
   "outputs": [
    {
     "data": {
      "text/plain": [
       "<AxesSubplot:>"
      ]
     },
     "execution_count": 45,
     "metadata": {},
     "output_type": "execute_result"
    },
    {
     "data": {
      "image/png": "[encoded data removed]",
      "text/plain": [
       "<Figure size 432x288 with 1 Axes>"
      ]
     },
     "metadata": {
      "needs_background": "light"
     },
     "output_type": "display_data"
    }
   ],
   "source": [
    "# 휴대폰 기종(phone_model)별 가격의 평균과 표춘편차를 계산합니다.\n",
    "df_price_model_mean = df.groupby('phone_model')['price'].transform(lambda x: np.mean(x))\n",
    "df_price_model_std = df.groupby('phone_model')['price'].transform(lambda x: np.std(x))\n",
    "\n",
    "# 이를 바탕으로 모든 데이터의 z-score(표준화 점수)를 계산합니다.\n",
    "# z-score는 평균값과 얼마나 거리가 먼지 계산해주는 통계적인 예측값이다.\n",
    "df_price_model_z_score = (df['price'] - df_price_model_mean) / df_price_model_std\n",
    "df_price_model_z_score.hist(bins=\"auto\")"
   ]
  },
  {
   "cell_type": "code",
   "execution_count": 46,
   "metadata": {},
   "outputs": [
    {
     "data": {
      "text/plain": [
       "<AxesSubplot:xlabel='factory_price', ylabel='price'>"
      ]
     },
     "execution_count": 46,
     "metadata": {},
     "output_type": "execute_result"
    },
    {
     "data": {
      "image/png": "[encoded data removed]",
      "text/plain": [
       "<Figure size 432x288 with 1 Axes>"
      ]
     },
     "metadata": {
      "needs_background": "light"
     },
     "output_type": "display_data"
    },
    {
     "data": {
      "image/png": "[encoded data removed]",
      "text/plain": [
       "<Figure size 432x288 with 1 Axes>"
      ]
     },
     "metadata": {
      "needs_background": "light"
     },
     "output_type": "display_data"
    }
   ],
   "source": [
    "# factory_price 피처의 분포를 탐색합니다.\n",
    "df['factory_price'].hist(bins=\"auto\")\n",
    "\n",
    "# factory_price와 price 피처를 산점도 그래프로 출력하여 상관 관계를 살펴봅니다.\n",
    "df.plot.scatter(x='factory_price', y='price')"
   ]
  },
  {
   "cell_type": "code",
   "execution_count": 47,
   "metadata": {},
   "outputs": [
    {
     "name": "stdout",
     "output_type": "stream",
     "text": [
      "count      64.000000\n",
      "mean       77.359375\n",
      "std       143.432786\n",
      "min        10.000000\n",
      "25%        23.000000\n",
      "50%        35.000000\n",
      "75%        90.500000\n",
      "max      1002.000000\n",
      "Name: phone_model, dtype: float64\n"
     ]
    },
    {
     "data": {
      "text/plain": [
       "{'whiskers': [<matplotlib.lines.Line2D at 0x11f722bf340>,\n",
       "  <matplotlib.lines.Line2D at 0x11f722bf9d0>],\n",
       " 'caps': [<matplotlib.lines.Line2D at 0x11f722bf5e0>,\n",
       "  <matplotlib.lines.Line2D at 0x11f6fe30eb0>],\n",
       " 'boxes': [<matplotlib.lines.Line2D at 0x11f722bf790>],\n",
       " 'medians': [<matplotlib.lines.Line2D at 0x11f722d8d30>],\n",
       " 'fliers': [<matplotlib.lines.Line2D at 0x11f722d8b80>],\n",
       " 'means': []}"
      ]
     },
     "execution_count": 47,
     "metadata": {},
     "output_type": "execute_result"
    },
    {
     "data": {
      "image/png": "[encoded data removed]",
      "text/plain": [
       "<Figure size 432x288 with 1 Axes>"
      ]
     },
     "metadata": {
      "needs_background": "light"
     },
     "output_type": "display_data"
    }
   ],
   "source": [
    "# 기종별 총 거래 데이터 개수를 집계합니다.\n",
    "model_counts = df['phone_model'].value_counts()\n",
    "print(model_counts.describe())\n",
    "\n",
    "# 기종별 총 거래 데이터 개수를 상자 그림으로 살펴봅니다.\n",
    "plt.boxplot(model_counts)"
   ]
  },
  {
   "cell_type": "code",
   "execution_count": 48,
   "metadata": {},
   "outputs": [],
   "source": [
    "from sklearn.model_selection import train_test_split\n",
    "from sklearn.feature_extraction import DictVectorizer\n",
    "from sklearn.ensemble import RandomForestRegressor\n",
    "from sklearn.metrics import r2_score\n",
    "from sklearn.metrics import mean_squared_error"
   ]
  },
  {
   "cell_type": "code",
   "execution_count": 49,
   "metadata": {},
   "outputs": [
    {
     "name": "stdout",
     "output_type": "stream",
     "text": [
      "MSE train: 10625622876.248, test: 13848900083.734\n",
      "R^2 train: 0.781, test: 0.683\n"
     ]
    }
   ],
   "source": [
    "# 데이터를 학습/테스트용 데이터로 분리합니다.\n",
    "df = df[['price', 'phone_model', 'factory_price', 'maker', 'price_index', 'month']]\n",
    "df = pd.get_dummies(df, columns=['phone_model', 'maker', 'month'])\n",
    "X = df.loc[:, df.columns != 'price']\n",
    "y = df['price']\n",
    "X_train, X_test, y_train, y_test = train_test_split(X, y, test_size=0.3, random_state=0)\n",
    "\n",
    "# 랜덤 포레스트 모델을 학습합니다.\n",
    "forest = RandomForestRegressor(n_estimators=1000, criterion='mse')\n",
    "forest.fit(X_train, y_train)\n",
    "y_train_pred = forest.predict(X_train)\n",
    "y_test_pred = forest.predict(X_test)\n",
    "\n",
    "# 학습한 모델을 평가합니다.\n",
    "print('MSE train: %.3f, test: %.3f' % (mean_squared_error(y_train, y_train_pred),\n",
    "                                      mean_squared_error(y_test, y_test_pred)))\n",
    "print('R^2 train: %.3f, test: %.3f' % (r2_score(y_train, y_train_pred),\n",
    "                                      r2_score(y_test, y_test_pred)))"
   ]
  },
  {
   "cell_type": "code",
   "execution_count": 50,
   "metadata": {},
   "outputs": [
    {
     "data": {
      "text/plain": [
       "[('factory_price', 0.40484113748092826),\n",
       " ('maker_apple', 0.29749198560292783),\n",
       " ('phone_model_iphone se 64gb', 0.02214628587933245),\n",
       " ('phone_model_galaxy s3 3g 8gb', 0.021967261873270562),\n",
       " ('price_index', 0.02023074204894932),\n",
       " ('phone_model_galaxy s4 32gb', 0.016108800363746612),\n",
       " ('month_2017-03', 0.015040250118518877),\n",
       " ('maker_samsung', 0.01423252979146808),\n",
       " ('phone_model_galaxy s6 32gb', 0.012471107532472558),\n",
       " ('month_2016-05', 0.011149415379955287)]"
      ]
     },
     "execution_count": 50,
     "metadata": {},
     "output_type": "execute_result"
    },
    {
     "data": {
      "image/png": "[encoded data removed]",
      "text/plain": [
       "<Figure size 432x288 with 1 Axes>"
      ]
     },
     "metadata": {
      "needs_background": "light"
     },
     "output_type": "display_data"
    }
   ],
   "source": [
    "# 학습한 모델의 피처 중요도를 그래프로 살펴봅니다.\n",
    "importances = forest.feature_importances_\n",
    "indices = np.argsort(importances)[::-1]\n",
    "plt.bar(range(X.shape[1]), importances[indices])\n",
    "\n",
    "# 학습한 모델의 피처 중요도를 출력합니다.\n",
    "feat_labels = X.columns.tolist()\n",
    "# zip() 은 동일한 개수로 이루어진 자료형을 묶어 주는 역할을 하는 함수이다.\n",
    "feature = list(zip(feat_labels, forest.feature_importances_))\n",
    "# sorted라는 정렬함수는 시퀀스 자료형 뿐만 아니라 순서에 구애받지 않는 자료형에도 적용할 수 있습니다. 정렬된 결과는 list로 반환됩니다.\n",
    "sorted(feature, key=lambda tup: tup[1], reverse=True)[:10]"
   ]
  },
  {
   "cell_type": "code",
   "execution_count": 51,
   "metadata": {},
   "outputs": [
    {
     "name": "stdout",
     "output_type": "stream",
     "text": [
      "('month_2017-03', 0.015040250118518877)\n",
      "('month_2016-05', 0.011149415379955287)\n",
      "('month_2016-09', 0.008527001719697922)\n",
      "('month_2016-04', 0.007537643093787137)\n",
      "('month_2016-10', 0.006462781155201945)\n",
      "('month_2016-06', 0.004500203065135738)\n",
      "('month_2016-08', 0.003661190751785434)\n",
      "('month_2016-07', 0.002721695294088638)\n",
      "('month_2016-03', 0.002434850928499713)\n",
      "('month_2016-02', 0.0010442754305291983)\n"
     ]
    }
   ],
   "source": [
    "# month 피처 중, 영향력이 높은순으로 정렬하여 출력합니다.\n",
    "for sorted_feature in sorted(feature, key=lambda tup: tup[1], reverse=True):\n",
    "    if \"month\" in sorted_feature[0]:\n",
    "        print(sorted_feature)"
   ]
  },
  {
   "cell_type": "code",
   "execution_count": 52,
   "metadata": {},
   "outputs": [],
   "source": [
    "# 데이터를 다시 불러옵니다.\n",
    "df = pd.read_csv(\"../data/used_mobile_phone.csv\")"
   ]
  },
  {
   "cell_type": "code",
   "execution_count": 53,
   "metadata": {},
   "outputs": [],
   "source": [
    "from datetime import datetime\n",
    "import time"
   ]
  },
  {
   "cell_type": "code",
   "execution_count": 54,
   "metadata": {},
   "outputs": [
    {
     "data": {
      "text/html": [
       "<div>\n",
       "<style scoped>\n",
       "    .dataframe tbody tr th:only-of-type {\n",
       "        vertical-align: middle;\n",
       "    }\n",
       "\n",
       "    .dataframe tbody tr th {\n",
       "        vertical-align: top;\n",
       "    }\n",
       "\n",
       "    .dataframe thead th {\n",
       "        text-align: right;\n",
       "    }\n",
       "</style>\n",
       "<table border=\"1\" class=\"dataframe\">\n",
       "  <thead>\n",
       "    <tr style=\"text-align: right;\">\n",
       "      <th></th>\n",
       "      <th>create_date</th>\n",
       "      <th>create_unixtime</th>\n",
       "      <th>create_time_score</th>\n",
       "    </tr>\n",
       "  </thead>\n",
       "  <tbody>\n",
       "    <tr>\n",
       "      <th>0</th>\n",
       "      <td>2017-03-19  4 35 00 PM</td>\n",
       "      <td>1.489849e+09</td>\n",
       "      <td>0.985612</td>\n",
       "    </tr>\n",
       "    <tr>\n",
       "      <th>1</th>\n",
       "      <td>2016-10-26  12 08 00 PM</td>\n",
       "      <td>1.477408e+09</td>\n",
       "      <td>0.640288</td>\n",
       "    </tr>\n",
       "    <tr>\n",
       "      <th>2</th>\n",
       "      <td>2016-10-25  12 52 00 PM</td>\n",
       "      <td>1.477321e+09</td>\n",
       "      <td>0.637890</td>\n",
       "    </tr>\n",
       "    <tr>\n",
       "      <th>3</th>\n",
       "      <td>2017-03-23  11 14 00 PM</td>\n",
       "      <td>1.490195e+09</td>\n",
       "      <td>0.995204</td>\n",
       "    </tr>\n",
       "    <tr>\n",
       "      <th>4</th>\n",
       "      <td>2016-04-11  7 35 00 PM</td>\n",
       "      <td>1.460300e+09</td>\n",
       "      <td>0.165468</td>\n",
       "    </tr>\n",
       "  </tbody>\n",
       "</table>\n",
       "</div>"
      ],
      "text/plain": [
       "               create_date  create_unixtime  create_time_score\n",
       "0   2017-03-19  4 35 00 PM     1.489849e+09           0.985612\n",
       "1  2016-10-26  12 08 00 PM     1.477408e+09           0.640288\n",
       "2  2016-10-25  12 52 00 PM     1.477321e+09           0.637890\n",
       "3  2017-03-23  11 14 00 PM     1.490195e+09           0.995204\n",
       "4   2016-04-11  7 35 00 PM     1.460300e+09           0.165468"
      ]
     },
     "execution_count": 54,
     "metadata": {},
     "output_type": "execute_result"
    }
   ],
   "source": [
    "# create_date 피처를 수치적으로 계산하기 위해 unixtime으로 변환하는 함수를 정의합니다.\n",
    "# unixtime : 시간을 정수로 표현한 것이며 값이 클수록 '최근'에 가까워집니다.\n",
    "def date_to_unixtime(date_str):\n",
    "    timestamp = time.mktime(datetime.strptime(date_str, '%Y-%m-%d').timetuple())\n",
    "    return timestamp\n",
    "\n",
    "# create_date 피처를 '현재와 얼마나 가까운 데이터인지' 판단하기 위한 점수를 생성합니다. 먼저 unixtime으로 데이터를 변환합니다.\n",
    "df['create_unixtime'] = df['create_date'].apply(lambda x: date_to_unixtime(x[:10]))\n",
    "\n",
    "# 변환된 unixtime에 min-max 스케일링을 적용합니다.\n",
    "df['create_time_score'] = (df['create_unixtime'] - df['create_unixtime'].min()) / \\\n",
    "                            (df['create_unixtime'].max() - df['create_unixtime'].min())\n",
    "df[['create_date', 'create_unixtime', 'create_time_score']].head()"
   ]
  },
  {
   "cell_type": "code",
   "execution_count": 55,
   "metadata": {},
   "outputs": [
    {
     "data": {
      "text/html": [
       "<div>\n",
       "<style scoped>\n",
       "    .dataframe tbody tr th:only-of-type {\n",
       "        vertical-align: middle;\n",
       "    }\n",
       "\n",
       "    .dataframe tbody tr th {\n",
       "        vertical-align: top;\n",
       "    }\n",
       "\n",
       "    .dataframe thead th {\n",
       "        text-align: right;\n",
       "    }\n",
       "</style>\n",
       "<table border=\"1\" class=\"dataframe\">\n",
       "  <thead>\n",
       "    <tr style=\"text-align: right;\">\n",
       "      <th></th>\n",
       "      <th>phone_model_storage</th>\n",
       "      <th>phone_model_detail</th>\n",
       "    </tr>\n",
       "  </thead>\n",
       "  <tbody>\n",
       "    <tr>\n",
       "      <th>0</th>\n",
       "      <td>64gb</td>\n",
       "      <td>iphone 6</td>\n",
       "    </tr>\n",
       "    <tr>\n",
       "      <th>1</th>\n",
       "      <td>32gb</td>\n",
       "      <td>galaxy s6 edge</td>\n",
       "    </tr>\n",
       "    <tr>\n",
       "      <th>2</th>\n",
       "      <td>32gb</td>\n",
       "      <td>galaxy s6</td>\n",
       "    </tr>\n",
       "    <tr>\n",
       "      <th>3</th>\n",
       "      <td>32gb</td>\n",
       "      <td>lg g5</td>\n",
       "    </tr>\n",
       "    <tr>\n",
       "      <th>4</th>\n",
       "      <td>32gb</td>\n",
       "      <td>lg u</td>\n",
       "    </tr>\n",
       "  </tbody>\n",
       "</table>\n",
       "</div>"
      ],
      "text/plain": [
       "  phone_model_storage phone_model_detail\n",
       "0                64gb           iphone 6\n",
       "1                32gb     galaxy s6 edge\n",
       "2                32gb          galaxy s6\n",
       "3                32gb              lg g5\n",
       "4                32gb               lg u"
      ]
     },
     "execution_count": 55,
     "metadata": {},
     "output_type": "execute_result"
    }
   ],
   "source": [
    "# phone_model 피처에서 저장 용량(phone_model_storage) 피처를 추출합니다.\n",
    "# split함수는 문자열을 공백 혹은 어떠한 기준으로 나눌때 사용하는 함수이다. \n",
    "df['phone_model_storage'] = df['phone_model'].apply(lambda x: x.split(\" \")[-1])\n",
    "\n",
    "# phone_model 피처에서 기종 세부명(phone_model_detail) 피처를 추출합니다.\n",
    "df['phone_model_detail'] = df['phone_model'].apply(lambda x: ' '.join(x.split(\" \")[:-1]))\n",
    "df[['phone_model_storage', 'phone_model_detail']].head()"
   ]
  },
  {
   "cell_type": "code",
   "execution_count": 56,
   "metadata": {},
   "outputs": [
    {
     "data": {
      "text/plain": [
       "{'whiskers': [<matplotlib.lines.Line2D at 0x11f005cddf0>,\n",
       "  <matplotlib.lines.Line2D at 0x11f005cdd00>,\n",
       "  <matplotlib.lines.Line2D at 0x11f01b6fac0>,\n",
       "  <matplotlib.lines.Line2D at 0x11f01b6f9a0>],\n",
       " 'caps': [<matplotlib.lines.Line2D at 0x11f005cd760>,\n",
       "  <matplotlib.lines.Line2D at 0x11f005cdb50>,\n",
       "  <matplotlib.lines.Line2D at 0x11f01b6f250>,\n",
       "  <matplotlib.lines.Line2D at 0x11f0173b5b0>],\n",
       " 'boxes': [<matplotlib.lines.Line2D at 0x11f005cd790>,\n",
       "  <matplotlib.lines.Line2D at 0x11f01b6f190>],\n",
       " 'medians': [<matplotlib.lines.Line2D at 0x11f0173db80>,\n",
       "  <matplotlib.lines.Line2D at 0x11f01c39b50>],\n",
       " 'fliers': [<matplotlib.lines.Line2D at 0x11f01b6f0d0>,\n",
       "  <matplotlib.lines.Line2D at 0x11f01c392b0>],\n",
       " 'means': []}"
      ]
     },
     "execution_count": 56,
     "metadata": {},
     "output_type": "execute_result"
    },
    {
     "data": {
      "image/png": "[encoded data removed]",
      "text/plain": [
       "<Figure size 432x288 with 1 Axes>"
      ]
     },
     "metadata": {
      "needs_background": "light"
     },
     "output_type": "display_data"
    }
   ],
   "source": [
    "# phone_model 피처의 기종별 거래 데이터 개수를 집계합니다.\n",
    "model_counts = df['phone_model'].value_counts()\n",
    "\n",
    "# phone_model_detail 피처의 기종별 거래 데이터 개수를 집계합니다.\n",
    "model_detail_counts = df['phone_model_detail'].value_counts()\n",
    "data = [model_counts, model_detail_counts]\n",
    "\n",
    "# 두 피처 간의 기종별 거래 데이터 개수를 비교합니다.\n",
    "mpl_fig = plt.figure()\n",
    "ax = mpl_fig.add_subplot(111)\n",
    "ax.boxplot(data)"
   ]
  },
  {
   "cell_type": "code",
   "execution_count": 58,
   "metadata": {},
   "outputs": [
    {
     "name": "stdout",
     "output_type": "stream",
     "text": [
      "-1.3966616903783375\n",
      "1.666982156397844\n"
     ]
    },
    {
     "data": {
      "image/png": "[encoded data removed]",
      "text/plain": [
       "<Figure size 432x288 with 1 Axes>"
      ]
     },
     "metadata": {
      "needs_background": "light"
     },
     "output_type": "display_data"
    }
   ],
   "source": [
    "# 거래 가격(price)의; z-score를 계산합니다. 이는 해당 데이터의 가격이 기종의 평균에 비해 어느정도로 높거나 낮은지를 알 수 있게 하는 점수입니다.\n",
    "# std() : 표준편차\n",
    "df['price_by_group'] = df.groupby('phone_model_detail')['price'].transform(lambda x: (x - x.mean()) / x.std())\n",
    "\n",
    "# 거래 가격의 z-score(price_by_group)의 분포를 그래프로 출력합니다.\n",
    "ax = df['price_by_group'].hist(bins=\"auto\")\n",
    "\n",
    "# z-score(price_by_group) 기준으로 하위 5%, 상위 5%에 해당하는 점수를 lower_bound, upper_bound라고 지정합니다.\n",
    "lower_bound = df['price_by_group'].quantile(0.05)\n",
    "upper_bound = df['price_by_group'].quantile(0.95)\n",
    "\n",
    "# lower_bound, upper_bound 그래프에 추가합니다.\n",
    "ax.axvline(x=lower_bound, color='r', linestyle='dashed', linewidth=2)\n",
    "ax.axvline(x=upper_bound, color='r', linestyle='dashed', linewidth=2)\n",
    "\n",
    "# lower_bound, upper_bound를 출력합니다.\n",
    "print(lower_bound)\n",
    "print(upper_bound)"
   ]
  },
  {
   "cell_type": "code",
   "execution_count": null,
   "metadata": {},
   "outputs": [],
   "source": []
  }
 ],
 "metadata": {
  "kernelspec": {
   "display_name": "Python 3",
   "language": "python",
   "name": "python3"
  },
  "language_info": {
   "codemirror_mode": {
    "name": "ipython",
    "version": 3
   },
   "file_extension": ".py",
   "mimetype": "text/x-python",
   "name": "python",
   "nbconvert_exporter": "python",
   "pygments_lexer": "ipython3",
   "version": "3.9.1"
  }
 },
 "nbformat": 4,
 "nbformat_minor": 4
}
